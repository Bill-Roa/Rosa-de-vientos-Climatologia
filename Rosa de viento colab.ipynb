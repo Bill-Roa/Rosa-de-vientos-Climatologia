{
  "nbformat": 4,
  "nbformat_minor": 0,
  "metadata": {
    "colab": {
      "provenance": [],
      "include_colab_link": true
    },
    "kernelspec": {
      "name": "python3",
      "display_name": "Python 3"
    },
    "language_info": {
      "name": "python"
    }
  },
  "cells": [
    {
      "cell_type": "markdown",
      "metadata": {
        "id": "view-in-github",
        "colab_type": "text"
      },
      "source": [
        "<a href=\"https://colab.research.google.com/github/Bill-Roa/Descargar-ERA5-Colab-Hidrologia/blob/main/Rosa%20de%20viento%20colab.ipynb\" target=\"_parent\"><img src=\"https://colab.research.google.com/assets/colab-badge.svg\" alt=\"Open In Colab\"/></a>"
      ]
    },
    {
      "cell_type": "code",
      "execution_count": null,
      "metadata": {
        "id": "s22LX2DRu0uz"
      },
      "outputs": [],
      "source": [
        "%matplotlib inline\n",
        "import pandas as pd\n",
        "import numpy as np\n",
        "from matplotlib import pyplot as plt\n",
        "import matplotlib.cm as cm\n",
        "from math import pi\n",
        "!pip install windrose\n",
        "from windrose import WindroseAxes\n",
        "\n",
        "#se pone el nombre del excel de los datos\n",
        "df = pd.read_excel('Datos_RosadeVientos.xlsx');\n",
        "df\n",
        "df['velocidad_x'] = df['VELOCIDAD'] * np.sin(df['DIRECCION'] * pi / 180.0);\n",
        "df['velocidad_y'] = df['VELOCIDAD'] * np.cos(df['DIRECCION'] * pi / 180.0);\n",
        "fig, ax = plt.subplots(figsize=(8, 8), dpi=80);\n",
        "x0, x1 = ax.get_xlim();\n",
        "y0, y1 = ax.get_ylim();\n",
        "ax.set_aspect('equal')\n",
        "_ = df.plot(kind='scatter', x='velocidad_x', y='velocidad_y', alpha=0.1, ax=ax);\n",
        "\n",
        "#Para cambiar los ejes utilizando \"Oeste\" en vez de \"West\"\n",
        "new_labels = [\"E\", \"N-E\", \"N\", \"N-O\", \"O\", \"S-O\", \"S\", \"S-E\"];\n",
        "ax = WindroseAxes.from_ax(theta_labels=new_labels);\n",
        "\n",
        "ax.bar(df.DIRECCION, df.VELOCIDAD, normed=True, opening=0.7, edgecolor='white')\n",
        "\n",
        "#el box_to_anchor cambia (que tan lejos esta hacia los lados, que tan lejos esta hacia abajo) y el loc es en donde quieres que vaya la leyenda\n",
        "ax.set_legend(\n",
        "    title=\"$m \\cdot s^{-1}$\", bbox_to_anchor=(1.15, -0.1), loc=\"lower right\"\n",
        ")"
      ]
    }
  ]
}